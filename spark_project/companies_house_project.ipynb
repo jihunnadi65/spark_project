{
 "cells": [
  {
   "cell_type": "code",
   "execution_count": 5,
   "id": "d4aebcc9-19b3-4b70-93dc-895d5a84d447",
   "metadata": {},
   "outputs": [],
   "source": [
    "import requests\n",
    "import json\n",
    "import time\n",
    "import csv\n",
    "import os"
   ]
  },
  {
   "cell_type": "code",
   "execution_count": 8,
   "id": "95deffe6-626e-4770-a6fa-2078d8a203aa",
   "metadata": {},
   "outputs": [],
   "source": [
    "def load_api_key(filepath=\"config.txt\"):\n",
    "    with open(filepath, \"r\") as file:\n",
    "        for line in file:\n",
    "            if line.startswith(\"API_KEY=\"):\n",
    "                return line.strip().split(\"=\")[1]\n",
    "    raise ValueError(\"API_KEY not found in config file.\")"
   ]
  },
  {
   "cell_type": "code",
   "execution_count": 10,
   "id": "96140eaf-e813-4930-b0cd-c1820d1e68a3",
   "metadata": {},
   "outputs": [],
   "source": [
    "# load API key from config file\n",
    "API_KEY = load_api_key()\n",
    "BASES_URL = \"https://api.company-information.service.gov.uk/company/\"\n",
    "HEADERSS = {\"Accept\": \"application/json\"}"
   ]
  },
  {
   "cell_type": "code",
   "execution_count": 11,
   "id": "6469c898-dfb3-45ac-858c-a7e1ed42e1b3",
   "metadata": {},
   "outputs": [
    {
     "data": {
      "text/plain": [
       "'06c346b1-07f2-4700-983b-ceddabf7e528'"
      ]
     },
     "execution_count": 11,
     "metadata": {},
     "output_type": "execute_result"
    }
   ],
   "source": []
  },
  {
   "cell_type": "code",
   "execution_count": null,
   "id": "6c63b952-5cb0-4771-ac69-d3fbc15fc399",
   "metadata": {},
   "outputs": [],
   "source": []
  }
 ],
 "metadata": {
  "kernelspec": {
   "display_name": "Python 3 (ipykernel)",
   "language": "python",
   "name": "python3"
  },
  "language_info": {
   "codemirror_mode": {
    "name": "ipython",
    "version": 3
   },
   "file_extension": ".py",
   "mimetype": "text/x-python",
   "name": "python",
   "nbconvert_exporter": "python",
   "pygments_lexer": "ipython3",
   "version": "3.11.11"
  }
 },
 "nbformat": 4,
 "nbformat_minor": 5
}
