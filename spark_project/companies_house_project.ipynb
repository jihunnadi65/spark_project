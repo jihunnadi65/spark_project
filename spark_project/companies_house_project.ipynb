{
 "cells": [
  {
   "cell_type": "markdown",
   "id": "4bd063dd-8488-4491-8ca3-ae2c1fe179e2",
   "metadata": {},
   "source": [
    "# Companies House Public Data API Project Using PySpark"
   ]
  },
  {
   "cell_type": "code",
   "execution_count": 64,
   "id": "d4aebcc9-19b3-4b70-93dc-895d5a84d447",
   "metadata": {},
   "outputs": [],
   "source": [
    "import requests\n",
    "import json\n",
    "import time\n",
    "import csv\n",
    "import os"
   ]
  },
  {
   "cell_type": "code",
   "execution_count": 65,
   "id": "95deffe6-626e-4770-a6fa-2078d8a203aa",
   "metadata": {},
   "outputs": [],
   "source": [
    "def load_api_key(filepath=\"config.txt\"):\n",
    "    with open(filepath, \"r\") as file:\n",
    "        for line in file:\n",
    "            if line.startswith(\"API_KEY=\"):\n",
    "                return line.strip().split(\"=\")[1]\n",
    "    raise ValueError(\"API_KEY not found in config file.\")"
   ]
  },
  {
   "cell_type": "code",
   "execution_count": 66,
   "id": "96140eaf-e813-4930-b0cd-c1820d1e68a3",
   "metadata": {},
   "outputs": [],
   "source": [
    "# load API key from config file\n",
    "API_KEY = load_api_key()\n",
    "BASE_URL = \"https://api.company-information.service.gov.uk/company/\"\n",
    "HEADERS = {\"Accept\": \"application/json\"}"
   ]
  },
  {
   "cell_type": "code",
   "execution_count": 67,
   "id": "6469c898-dfb3-45ac-858c-a7e1ed42e1b3",
   "metadata": {},
   "outputs": [],
   "source": [
    "# example list of company numbers\n",
    "COMPANY_NUMBERS = [\n",
    "    \"09277122\",  # The East India Company\n",
    "    \"01691920\",  # ROYAL BANK OF SCOTLAND GROUP PLC\n",
    "    \"SC117120\",  # SCOTTISH POWER UK PLC\n",
    "    \"00445790\",  # TESCO PLC\n",
    "    \"01026167\",  # BARCLAYS BANK PLC\n",
    "    \"04006623\",  # ASOS PLC\n",
    "    \"00014259\",  # HSBC BANK PLC\n",
    "    \"03261722\",  # SAINSBURY'S SUPERMARKETS LTD\n",
    "    \"01800000\",  # BRITISH TELECOMMUNICATIONS PUBLIC LIMITED COMPANY\n",
    "    \"00102498\",  # BP P.L.C.\n",
    "    \"03034606\",  # EASYJET AIRLINE COMPANY LIMITED\n",
    "    \"01003142\",  # ROLLS-ROYCE PLC\n",
    "    \"00041424\",  # UNILEVER PLC\n",
    "    \"00612172\",  # OXFAM\n",
    "    \"01915767\",  # CINEWORLD CINEMAS LIMITED\n",
    "    \"04031152\",  # NATIONAL GRID PLC\n",
    "    \"00002065\",  # LLOYDS BANK PLC\n",
    "    \"02906991\",  # SKY UK LIMITED\n",
    "    \"01107406\",  # ICELAND FOODS LIMITED\n",
    "    \"03279730\",  # SAINSBURY’S BANK PLC\n",
    "]"
   ]
  },
  {
   "cell_type": "code",
   "execution_count": 68,
   "id": "9a8524c2-8a79-46ea-9d3f-f2bdb615e27d",
   "metadata": {},
   "outputs": [],
   "source": [
    "OUTPUT_FILE = \"company_profiles.csv\"\n",
    "DELAY_BETWEEN_REQUESTS = 1"
   ]
  },
  {
   "cell_type": "code",
   "execution_count": 69,
   "id": "c9adbf10-70cd-4c62-b857-bc07afa551f0",
   "metadata": {},
   "outputs": [
    {
     "data": {
      "text/plain": [
       "'21045d38-a79b-4c00-9adf-5d1080d02ae9'"
      ]
     },
     "execution_count": 69,
     "metadata": {},
     "output_type": "execute_result"
    }
   ],
   "source": [
    "API_KEY"
   ]
  },
  {
   "cell_type": "code",
   "execution_count": 70,
   "id": "6c63b952-5cb0-4771-ac69-d3fbc15fc399",
   "metadata": {},
   "outputs": [],
   "source": [
    "# define fetch_company_profile function\n",
    "def fetch_company_profile(company_number):\n",
    "    url = BASE_URL + company_number\n",
    "    try:\n",
    "        response = requests.get(url, auth=(API_KEY, \"\"), headers=HEADERS)\n",
    "        if response.status_code == 200:\n",
    "            return response.json()\n",
    "        else:\n",
    "            print(f\"[{response.status_code}] Failed to fetch {company_number}\")\n",
    "            return None\n",
    "    except Exception as e:\n",
    "        print(f\"[ERROR] {company_number}: {str(e)}\")\n",
    "        return None"
   ]
  },
  {
   "cell_type": "code",
   "execution_count": 71,
   "id": "4b5abd9b-6688-4bec-8ba0-6e72c7df2b3c",
   "metadata": {},
   "outputs": [
    {
     "name": "stdout",
     "output_type": "stream",
     "text": [
      "Fetching data for 20 companies...\n",
      "Saved 1 company profiles to company_profiles.csv\n",
      "Saved 2 company profiles to company_profiles.csv\n",
      "Saved 3 company profiles to company_profiles.csv\n",
      "Saved 4 company profiles to company_profiles.csv\n",
      "Saved 5 company profiles to company_profiles.csv\n",
      "Saved 6 company profiles to company_profiles.csv\n",
      "Saved 7 company profiles to company_profiles.csv\n",
      "Saved 8 company profiles to company_profiles.csv\n",
      "Saved 9 company profiles to company_profiles.csv\n",
      "Saved 10 company profiles to company_profiles.csv\n",
      "Saved 11 company profiles to company_profiles.csv\n",
      "Saved 12 company profiles to company_profiles.csv\n",
      "Saved 13 company profiles to company_profiles.csv\n",
      "Saved 14 company profiles to company_profiles.csv\n",
      "Saved 15 company profiles to company_profiles.csv\n",
      "Saved 16 company profiles to company_profiles.csv\n",
      "Saved 17 company profiles to company_profiles.csv\n",
      "Saved 18 company profiles to company_profiles.csv\n",
      "Saved 19 company profiles to company_profiles.csv\n",
      "Saved 20 company profiles to company_profiles.csv\n"
     ]
    }
   ],
   "source": [
    "def main():\n",
    "    print(f\"Fetching data for {len(COMPANY_NUMBERS)} companies...\")\n",
    "    results = []\n",
    "\n",
    "    for number in COMPANY_NUMBERS:\n",
    "        data = fetch_company_profile(number)\n",
    "        if data:\n",
    "            results.append({\n",
    "                \"company_number\": data.get(\"company_number\"),\n",
    "                \"company_name\": data.get(\"company_name\"),\n",
    "                \"status\": data.get(\"company_status\"),\n",
    "                \"date_of_creation\": data.get(\"date_of_creation\"),\n",
    "                \"type\": data.get(\"type\"),\n",
    "                \"jurisdiction\": data.get(\"jurisdiction\"),\n",
    "                \"registered_office_address\": json.dumps(data.get(\"registered_office_address\", {})),\n",
    "                \"sic_codes\": \",\".join(data.get(\"sic_codes\", []))\n",
    "            })\n",
    "        time.sleep(DELAY_BETWEEN_REQUESTS)\n",
    "\n",
    "        # save as csv\n",
    "        keys = results[0].keys() if results else []\n",
    "        with open(OUTPUT_FILE, \"w\", newline=\"\", encoding=\"utf-8\") as f:\n",
    "            writer = csv.DictWriter(f, fieldnames=keys)\n",
    "            writer.writeheader()\n",
    "            writer.writerows(results)\n",
    "\n",
    "        print(f\"Saved {len(results)} company profiles to {OUTPUT_FILE}\")\n",
    "\n",
    "if __name__ == \"__main__\":\n",
    "    main()"
   ]
  },
  {
   "cell_type": "code",
   "execution_count": null,
   "id": "51a3b64b-dd8d-4a2a-b648-ef15e1eaf824",
   "metadata": {},
   "outputs": [],
   "source": []
  }
 ],
 "metadata": {
  "kernelspec": {
   "display_name": "Python 3 (ipykernel)",
   "language": "python",
   "name": "python3"
  },
  "language_info": {
   "codemirror_mode": {
    "name": "ipython",
    "version": 3
   },
   "file_extension": ".py",
   "mimetype": "text/x-python",
   "name": "python",
   "nbconvert_exporter": "python",
   "pygments_lexer": "ipython3",
   "version": "3.11.11"
  }
 },
 "nbformat": 4,
 "nbformat_minor": 5
}
